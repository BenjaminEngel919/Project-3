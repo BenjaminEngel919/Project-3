{
 "cells": [
  {
   "cell_type": "markdown",
   "id": "976c72f2",
   "metadata": {},
   "source": [
    "Part 4\n",
    "\n",
    "For part 4 of the project, you will be using your MySQL database from part 3 to answer meaningful questions for your stakeholder. They want you to use your hypothesis testing and statistics knowledge to answer 3 questions about what makes a successful movie.\n",
    "\n",
    "Questions to Answer\n",
    "\n",
    "The stakeholder's first question is: does the MPAA rating of a movie (G/PG/PG-13/R) affect how much revenue the movie generates?\n",
    "\n",
    "They want you to perform a statistical test to get a mathematically-supported answer.\n",
    "They want you to report if you found a significant difference between ratings.\n",
    "If so, what was the p-value of your analysis?\n",
    "And which rating earns the most revenue?\n",
    "They want you to prepare a visualization that supports your finding.\n",
    "\n",
    "It is then up to you to think of 2 additional hypotheses to test that your stakeholder may want to know.\n",
    "\n",
    "Some example hypotheses you could test:\n",
    "\n",
    "Do movies that are over 2.5 hours long earn more revenue than movies that are 1.5 hours long (or less)?\n",
    "\n",
    "Do movies released in 2020 earn less revenue than movies released in 2018?\n",
    "\n",
    "How do the years compare for movie ratings?\n",
    "\n",
    "Do some movie genres earn more revenue than others?\n",
    "\n",
    "Are some genres higher rated than others?\n",
    "etc.\n",
    "\n",
    "Specifications\n",
    "\n",
    "Your Data\n",
    "\n",
    "A critical first step for this assignment will be to retrieve additional movie data to add to your SQL database.\n",
    "\n",
    "You will want to use the TMDB API again and extract data for additional years.\n",
    "You may want to review the optional lesson from Week 1 on \"Using Glob to Load Many Files\" to load and combine all of your API results for each year.\n",
    "However, trying to extract the TMDB data for all movies from 2000-2022 could take >24 hours!\n",
    "\n",
    "To address this issue, you should EITHER:\n",
    "Define a smaller (but logical) period of time to use for your analyses (e.g., last 10 years, 2010-2019 (pre-pandemic, etc).\n",
    "\n",
    "OR coordinate with cohort-mates and divide the API calls so that you can all download the data for a smaller number of years and then share your downloaded JSON data.\n",
    "\n",
    "\n",
    "Deliverables\n",
    "\n",
    "You should use the same project repository you have been using for Parts 1-3 (for your portfolio).\n",
    "\n",
    "Create a new notebook in your project repository just for the hypothesis testing (like \"Part 4 - Hypothesis Testing.ipynb\")\n",
    "\n",
    "Make sure the results and visualization for all 3 hypotheses are in your notebook.\n",
    "Please submit the link to your GitHub repository for this assignment."
   ]
  },
  {
   "cell_type": "code",
   "execution_count": null,
   "id": "8ed6990b",
   "metadata": {},
   "outputs": [],
   "source": [
    "import pandas as pd\n",
    "import numpy as np\n",
    "import matplotlib.pyplot as plt\n",
    "import matplotlib as mpl\n",
    "import seaborn as sns\n",
    "from scipy import stats\n",
    "\n",
    "import warnings\n",
    "warnings.filterwarnings('ignore')"
   ]
  },
  {
   "cell_type": "markdown",
   "id": "3c1fc334",
   "metadata": {},
   "source": [
    "<font size=\"5\">Connect to TMDB through API using JSON<font>"
   ]
  },
  {
   "cell_type": "code",
   "execution_count": null,
   "id": "2e94f3b7",
   "metadata": {},
   "outputs": [],
   "source": [
    "#Load API Credentials\n",
    "import json\n",
    "with open('/Users/benjaminengel/Documents/.Secret/tmdb_api.json') as f:\n",
    "    login = json.load(f)\n",
    "login.keys()"
   ]
  },
  {
   "cell_type": "code",
   "execution_count": null,
   "id": "a7ece346",
   "metadata": {},
   "outputs": [],
   "source": [
    "#Install tqdm\n",
    "!pip install tqdm"
   ]
  },
  {
   "cell_type": "code",
   "execution_count": null,
   "id": "24432a65",
   "metadata": {},
   "outputs": [],
   "source": [
    "# Install tmdbsimple\n",
    "!pip install tmdbsimple"
   ]
  },
  {
   "cell_type": "code",
   "execution_count": null,
   "id": "19759faf",
   "metadata": {},
   "outputs": [],
   "source": [
    "import tmdbsimple as tmdb\n",
    "tmdb.API_KEY =  login['API Key']"
   ]
  },
  {
   "cell_type": "code",
   "execution_count": null,
   "id": "15a8e99f",
   "metadata": {},
   "outputs": [],
   "source": [
    "import os\n",
    "FOLDER = \"Data/\"\n",
    "os.makedirs(FOLDER, exist_ok=True)\n",
    "os.listdir(FOLDER)"
   ]
  },
  {
   "cell_type": "code",
   "execution_count": null,
   "id": "f5e317e2",
   "metadata": {},
   "outputs": [],
   "source": [
    "basics=pd.read_csv(\"Data/title_basics.csv.gz\", low_memory = False)\n",
    "basics"
   ]
  },
  {
   "cell_type": "code",
   "execution_count": null,
   "id": "dda57d87",
   "metadata": {},
   "outputs": [],
   "source": [
    "#From the LP\n",
    "def write_json(new_data, filename): \n",
    "    \"\"\"Appends a list of records (new_data) to a json file (filename). \n",
    "    Adapted from: https://www.geeksforgeeks.org/append-to-json-file-using-python/\"\"\"  \n",
    "    \n",
    "    with open(filename,'r+') as file:\n",
    "        # First we load existing data into a dict.\n",
    "        file_data = json.load(file)\n",
    "        ## Choose extend or append\n",
    "        if (type(new_data) == list) & (type(file_data) == list):\n",
    "            file_data.extend(new_data)\n",
    "        else:\n",
    "             file_data.append(new_data)\n",
    "        # Sets file's current position at offset.\n",
    "        file.seek(0)\n",
    "        # convert back to json.\n",
    "        json.dump(file_data, file)"
   ]
  },
  {
   "cell_type": "code",
   "execution_count": null,
   "id": "a2e9899e",
   "metadata": {},
   "outputs": [],
   "source": [
    "def get_movie_with_rating(movie_id):\n",
    "    \"\"\"Copied from Coding Dojo Learning Platform\"\"\"\n",
    "    # Get the movie object for the current id\n",
    "    movie = tmdb.Movies(movie_id)\n",
    "    # save the .info .releases dictionaries\n",
    "    info = movie.info()\n",
    "    releases = movie.releases()\n",
    "    # Loop through countries in releases\n",
    "    for c in releases['countries']:\n",
    "        # if the country abbreviation==US\n",
    "        if c['iso_3166_1' ] =='US':\n",
    "            ## save a \"certification\" key in the info dict with the certification\n",
    "            info['certification'] = c['certification']\n",
    "    \n",
    "    return info"
   ]
  },
  {
   "cell_type": "code",
   "execution_count": null,
   "id": "d94fc32c",
   "metadata": {},
   "outputs": [],
   "source": [
    "#Make object for years needed.\n",
    "YEARS_TO_GET = [2010,2011,2012,2013,2014,2015,2016,2017,2018,2019]"
   ]
  },
  {
   "cell_type": "code",
   "execution_count": null,
   "id": "53d8de9e",
   "metadata": {},
   "outputs": [],
   "source": [
    "#Make object for Errors.\n",
    "errors = []"
   ]
  },
  {
   "cell_type": "code",
   "execution_count": null,
   "id": "0be35ff8",
   "metadata": {},
   "outputs": [],
   "source": [
    "from tqdm import tqdm_notebook\n",
    "# Start of OUTER loop\n",
    "for YEAR in tqdm_notebook(YEARS_TO_GET, desc='YEARS', position=0):\n",
    "\n",
    "    #Defining the JSON file to store results for year\n",
    "    JSON_FILE = f'{FOLDER}tmdb_api_results_{YEAR}.json'\n",
    "\n",
    "    # Check if file exists\n",
    "    file_exists = os.path.isfile(JSON_FILE)\n",
    "    # If it does not exist: create it\n",
    "    if file_exists == False:\n",
    "        # save an empty dict with just \"imdb_id\" to the new json file.\n",
    "        with open(JSON_FILE,'w') as f:\n",
    "            json.dump([{'imdb_id':0}],f)\n",
    "\n",
    "    #Saving new year as the current df\n",
    "    df = basics.loc[ basics['startYear']==YEAR].copy()\n",
    "    # saving movie ids to list\n",
    "    movie_ids = df['tconst'].copy()\n",
    "\n",
    "    # Load existing data from json into a dataframe called \"previous_df\"\n",
    "    previous_df = pd.read_json(JSON_FILE)\n",
    "\n",
    "    # filter out any ids that are already in the JSON_FILE\n",
    "    movie_ids_to_get = movie_ids[~movie_ids.isin(previous_df['imdb_id'])]\n",
    "\n",
    "\n",
    "\n",
    "    #Get index and movie id from list\n",
    "    # INNER Loop\n",
    "    for movie_id in tqdm_notebook(movie_ids_to_get,\n",
    "                                  desc=f'Movies from {YEAR}',\n",
    "                                  position=1,\n",
    "                                  leave=True):\n",
    "        try:\n",
    "            # Retrieve then data for the movie id\n",
    "            temp = get_movie_with_rating(movie_id)  \n",
    "            # Append/extend results to existing file using a pre-made function\n",
    "            write_json(temp,JSON_FILE)\n",
    "            # Short 20 ms sleep to prevent overwhelming server\n",
    "            time.sleep(0.02)\n",
    "            \n",
    "        except Exception as e:\n",
    "            errors.append([movie_id, e])\n",
    "            \n",
    "    #Save the year's results as csv.gz file\n",
    "    final_year_df = pd.read_json(JSON_FILE)\n",
    "    final_year_df.to_csv(f\"{FOLDER}final_tmdb_data_{YEAR}.csv.gz\",\n",
    "                         compression=\"gzip\", index=False)\n",
    "\n",
    "#Print number of errors\n",
    "print(f\"- Total errors: {len(errors)}\")"
   ]
  },
  {
   "cell_type": "code",
   "execution_count": null,
   "id": "d99709c1",
   "metadata": {},
   "outputs": [],
   "source": [
    "data2010 = pd.read_csv('Data/final_tmdb_data_2010.csv.gz')\n",
    "data2011 = pd.read_csv('Data/final_tmdb_data_2011.csv.gz')\n",
    "data2012 = pd.read_csv('Data/final_tmdb_data_2012.csv.gz')\n",
    "data2013 = pd.read_csv('Data/final_tmdb_data_2013.csv.gz')\n",
    "data2014 = pd.read_csv('Data/final_tmdb_data_2014.csv.gz')\n",
    "data2015 = pd.read_csv('Data/final_tmdb_data_2015.csv.gz')\n",
    "data2016 = pd.read_csv('Data/final_tmdb_data_2016.csv.gz')\n",
    "data2017 = pd.read_csv('Data/final_tmdb_data_2017.csv.gz')\n",
    "data2018 = pd.read_csv('Data/final_tmdb_data_2018.csv.gz')\n",
    "data2019 = pd.read_csv('Data/final_tmdb_data_2019.csv.gz')"
   ]
  },
  {
   "cell_type": "code",
   "execution_count": null,
   "id": "89ad4914",
   "metadata": {},
   "outputs": [],
   "source": [
    "df= pd.concat([data2010, data2011, data2012, data2013, data2014, data2015, data2016, data2017, data2018, data2019])\n",
    "df.head()"
   ]
  },
  {
   "cell_type": "markdown",
   "id": "44031e79",
   "metadata": {},
   "source": [
    "**Question 1: Does the MPAA rating of a movie (G/PG/PG-13/R) affect how much revenue the movie generates?**\n",
    "\n",
    "Null Hypothesis: There is no difference in movie revenue based on the movies MPAA rating.\n",
    "\n",
    "Alternative Hypothesis: There is a difference in movie revenue depending on the movies MPAA rating."
   ]
  },
  {
   "cell_type": "code",
   "execution_count": null,
   "id": "f004399b",
   "metadata": {},
   "outputs": [],
   "source": [
    "#Making two dataframe for \"smoker\" and for \"non-smoker\"\n",
    "g_df = df.loc[df['smoker']=='yes',:].copy()\n",
    "pg_df = df.loc[df['smoker']=='yes',:].copy()\n",
    "pg13_df = df.loc[df['smoker']=='yes',:].copy()\n",
    "r_df = df.loc[df['smoker']=='yes',:].copy()\n",
    "#Define our feature of interest\n",
    "smoker_charges = smoker_df['charges']\n",
    "nonsmoker_charges = nonsmoker_df['charges']"
   ]
  },
  {
   "cell_type": "markdown",
   "id": "35604b48",
   "metadata": {},
   "source": [
    "**Size of the two groups.**"
   ]
  },
  {
   "cell_type": "code",
   "execution_count": null,
   "id": "71d17dfc",
   "metadata": {},
   "outputs": [],
   "source": [
    "print(f'Size of smoker {len(smoker_charges)}')\n",
    "print(f'Size of non_smoker {len(nonsmoker_charges)}')"
   ]
  },
  {
   "cell_type": "markdown",
   "id": "7644f1ae",
   "metadata": {},
   "source": [
    "**Testing Assumptions**"
   ]
  },
  {
   "cell_type": "code",
   "execution_count": null,
   "id": "8dafc6cb",
   "metadata": {},
   "outputs": [],
   "source": [
    "#Check for outliers in smoker_df\n",
    "zscores= stats.zscore(smoker_charges)\n",
    "outliers = abs(zscores)>3\n",
    "np.sum(outliers)"
   ]
  },
  {
   "cell_type": "markdown",
   "id": "4cd4dfd3",
   "metadata": {},
   "source": [
    "**No outliers in Smoker**"
   ]
  },
  {
   "cell_type": "code",
   "execution_count": null,
   "id": "15a5179e",
   "metadata": {},
   "outputs": [],
   "source": [
    "#Check for outliers in nonsmoker_df\n",
    "zscores= stats.zscore(nonsmoker_charges)\n",
    "outliers = abs(zscores)>3\n",
    "np.sum(outliers)"
   ]
  },
  {
   "cell_type": "code",
   "execution_count": null,
   "id": "41f4b81f",
   "metadata": {},
   "outputs": [],
   "source": [
    "#Looping out all the outliers\n",
    "while np.sum(outliers) > 0 and len(outliers)> 0:\n",
    "    nonsmoker_charges = nonsmoker_charges[(np.abs(stats.zscore(nonsmoker_charges)) < 3)]\n",
    "    zscores= stats.zscore(nonsmoker_charges)\n",
    "    outliers = abs(zscores)>3\n",
    "    np.sum(outliers)"
   ]
  },
  {
   "cell_type": "code",
   "execution_count": null,
   "id": "30347571",
   "metadata": {},
   "outputs": [],
   "source": [
    "#Recheck for outliers in nonsmoker_df\n",
    "zscores= stats.zscore(nonsmoker_charges)\n",
    "outliers = abs(zscores)>3\n",
    "np.sum(outliers)"
   ]
  },
  {
   "cell_type": "markdown",
   "id": "96f3141b",
   "metadata": {},
   "source": [
    "**Normality**"
   ]
  },
  {
   "cell_type": "code",
   "execution_count": null,
   "id": "2c6f9504",
   "metadata": {},
   "outputs": [],
   "source": [
    "#Test the smoker_charges group for normality\n",
    "result_smoker_charges = stats.normaltest(smoker_charges)\n",
    "result_smoker_charges"
   ]
  },
  {
   "cell_type": "code",
   "execution_count": null,
   "id": "005d7d45",
   "metadata": {},
   "outputs": [],
   "source": [
    "Smoker charges are not normally distributed. The samples sizes is large enough to not need to be normally distributed."
   ]
  },
  {
   "cell_type": "markdown",
   "id": "9efa531f",
   "metadata": {},
   "source": [
    "**Equal Variance**"
   ]
  },
  {
   "cell_type": "code",
   "execution_count": null,
   "id": "c0c065ff",
   "metadata": {},
   "outputs": [],
   "source": [
    "#Test for equal variance\n",
    "result = stats.levene(smoker_charges, nonsmoker_charges)\n",
    "result"
   ]
  },
  {
   "cell_type": "code",
   "execution_count": null,
   "id": "3a6584b2",
   "metadata": {},
   "outputs": [],
   "source": [
    "Variances is not equal. We'll have to put \"equal_var = False\" when performing our t-test."
   ]
  },
  {
   "cell_type": "code",
   "execution_count": null,
   "id": "0b835e0e",
   "metadata": {},
   "outputs": [],
   "source": [
    "Perform and evaluate the t-test"
   ]
  },
  {
   "cell_type": "code",
   "execution_count": null,
   "id": "0424f979",
   "metadata": {},
   "outputs": [],
   "source": [
    "result = stats.ttest_ind(smoker_charges, nonsmoker_charges, equal_var = False)\n",
    "result"
   ]
  },
  {
   "cell_type": "markdown",
   "id": "6d6d2f1b",
   "metadata": {},
   "source": [
    "Our p-value < alpha (0.05). I reject the null hypothesis and accept that there is a significant difference between smoker and non-smoker insurance charges."
   ]
  },
  {
   "cell_type": "markdown",
   "id": "885e3811",
   "metadata": {},
   "source": [
    "**Supporting Visualization**"
   ]
  },
  {
   "cell_type": "code",
   "execution_count": null,
   "id": "b69bbde7",
   "metadata": {},
   "outputs": [],
   "source": [
    "ax = sns.barplot(x=['smoker','non-smoker'], y=[smoker_charges.mean(),nonsmoker_charges.mean()])\n",
    "ax.bar_label(ax.containers[0])\n",
    "plt.title('Smoker Mean vs. Non-smoker Mean Charges');"
   ]
  },
  {
   "cell_type": "markdown",
   "id": "0bdbad0e",
   "metadata": {},
   "source": [
    "**Question 2: Do movies released in 2011 earn less revenue than movies released in 2019?**\n",
    "\n",
    "Null Hypothesis: There is no difference in movie revenue based on the movies release date. 2011 vs 2019.\n",
    "\n",
    "Alternative Hypothesis: There is a difference in movie revenue depending on the movies release date. 2011 vs 2019."
   ]
  },
  {
   "cell_type": "code",
   "execution_count": null,
   "id": "0ec5ac6f",
   "metadata": {},
   "outputs": [],
   "source": []
  },
  {
   "cell_type": "code",
   "execution_count": null,
   "id": "7e301af0",
   "metadata": {},
   "outputs": [],
   "source": []
  },
  {
   "cell_type": "code",
   "execution_count": null,
   "id": "7ada0a2d",
   "metadata": {},
   "outputs": [],
   "source": []
  },
  {
   "cell_type": "code",
   "execution_count": null,
   "id": "b57c8117",
   "metadata": {},
   "outputs": [],
   "source": []
  },
  {
   "cell_type": "code",
   "execution_count": null,
   "id": "1c5f5604",
   "metadata": {},
   "outputs": [],
   "source": []
  },
  {
   "cell_type": "code",
   "execution_count": null,
   "id": "7ec84614",
   "metadata": {},
   "outputs": [],
   "source": []
  },
  {
   "cell_type": "code",
   "execution_count": null,
   "id": "f580c27b",
   "metadata": {},
   "outputs": [],
   "source": []
  },
  {
   "cell_type": "code",
   "execution_count": null,
   "id": "bfbea7ae",
   "metadata": {},
   "outputs": [],
   "source": []
  },
  {
   "cell_type": "code",
   "execution_count": null,
   "id": "88a80710",
   "metadata": {},
   "outputs": [],
   "source": []
  },
  {
   "cell_type": "code",
   "execution_count": null,
   "id": "c801435d",
   "metadata": {},
   "outputs": [],
   "source": []
  },
  {
   "cell_type": "code",
   "execution_count": null,
   "id": "9ca5a6d8",
   "metadata": {},
   "outputs": [],
   "source": []
  },
  {
   "cell_type": "code",
   "execution_count": null,
   "id": "9be22cb1",
   "metadata": {},
   "outputs": [],
   "source": []
  },
  {
   "cell_type": "code",
   "execution_count": null,
   "id": "3bc661fd",
   "metadata": {},
   "outputs": [],
   "source": []
  },
  {
   "cell_type": "code",
   "execution_count": null,
   "id": "97a55d81",
   "metadata": {},
   "outputs": [],
   "source": []
  },
  {
   "cell_type": "code",
   "execution_count": null,
   "id": "7e415aa9",
   "metadata": {},
   "outputs": [],
   "source": []
  },
  {
   "cell_type": "code",
   "execution_count": null,
   "id": "a016355d",
   "metadata": {},
   "outputs": [],
   "source": []
  },
  {
   "cell_type": "code",
   "execution_count": null,
   "id": "82290ec0",
   "metadata": {},
   "outputs": [],
   "source": []
  },
  {
   "cell_type": "code",
   "execution_count": null,
   "id": "b7800a56",
   "metadata": {},
   "outputs": [],
   "source": []
  },
  {
   "cell_type": "code",
   "execution_count": null,
   "id": "cb812ec5",
   "metadata": {},
   "outputs": [],
   "source": []
  },
  {
   "cell_type": "code",
   "execution_count": null,
   "id": "b56908f7",
   "metadata": {},
   "outputs": [],
   "source": []
  },
  {
   "cell_type": "code",
   "execution_count": null,
   "id": "6f1c445d",
   "metadata": {},
   "outputs": [],
   "source": []
  },
  {
   "cell_type": "markdown",
   "id": "274db79d",
   "metadata": {},
   "source": [
    "**Question 3: Do Do some movie genres earn more revenue than others?**\n",
    "\n",
    "Null Hypothesis: There is no difference in movie revenue based on the movies genre.\n",
    "\n",
    "Alternative Hypothesis: There is a difference in movie revenue depending on the movies genre."
   ]
  },
  {
   "cell_type": "code",
   "execution_count": null,
   "id": "8a429d2b",
   "metadata": {},
   "outputs": [],
   "source": []
  },
  {
   "cell_type": "code",
   "execution_count": null,
   "id": "f4379477",
   "metadata": {},
   "outputs": [],
   "source": []
  },
  {
   "cell_type": "code",
   "execution_count": null,
   "id": "cf507a59",
   "metadata": {},
   "outputs": [],
   "source": []
  },
  {
   "cell_type": "code",
   "execution_count": null,
   "id": "6720f1ac",
   "metadata": {},
   "outputs": [],
   "source": []
  },
  {
   "cell_type": "code",
   "execution_count": null,
   "id": "064ffc85",
   "metadata": {},
   "outputs": [],
   "source": []
  },
  {
   "cell_type": "code",
   "execution_count": null,
   "id": "bcac9d04",
   "metadata": {},
   "outputs": [],
   "source": []
  },
  {
   "cell_type": "code",
   "execution_count": null,
   "id": "562bbe44",
   "metadata": {},
   "outputs": [],
   "source": []
  },
  {
   "cell_type": "code",
   "execution_count": null,
   "id": "4c738a1c",
   "metadata": {},
   "outputs": [],
   "source": []
  },
  {
   "cell_type": "code",
   "execution_count": null,
   "id": "bd724bec",
   "metadata": {},
   "outputs": [],
   "source": []
  },
  {
   "cell_type": "code",
   "execution_count": null,
   "id": "a9b1ebbd",
   "metadata": {},
   "outputs": [],
   "source": []
  },
  {
   "cell_type": "code",
   "execution_count": null,
   "id": "bb82c8e9",
   "metadata": {},
   "outputs": [],
   "source": []
  },
  {
   "cell_type": "code",
   "execution_count": null,
   "id": "f5388cb2",
   "metadata": {},
   "outputs": [],
   "source": []
  },
  {
   "cell_type": "code",
   "execution_count": null,
   "id": "f9c24f62",
   "metadata": {},
   "outputs": [],
   "source": []
  },
  {
   "cell_type": "code",
   "execution_count": null,
   "id": "7adee76f",
   "metadata": {},
   "outputs": [],
   "source": []
  },
  {
   "cell_type": "code",
   "execution_count": null,
   "id": "e4caf7c6",
   "metadata": {},
   "outputs": [],
   "source": []
  },
  {
   "cell_type": "code",
   "execution_count": null,
   "id": "c9c1842f",
   "metadata": {},
   "outputs": [],
   "source": []
  },
  {
   "cell_type": "code",
   "execution_count": null,
   "id": "d53775d3",
   "metadata": {},
   "outputs": [],
   "source": []
  },
  {
   "cell_type": "code",
   "execution_count": null,
   "id": "b3f85cd5",
   "metadata": {},
   "outputs": [],
   "source": []
  },
  {
   "cell_type": "code",
   "execution_count": null,
   "id": "5857476d",
   "metadata": {},
   "outputs": [],
   "source": []
  }
 ],
 "metadata": {
  "kernelspec": {
   "display_name": "Python (dojo-env)",
   "language": "python",
   "name": "dojo-env"
  },
  "language_info": {
   "codemirror_mode": {
    "name": "ipython",
    "version": 3
   },
   "file_extension": ".py",
   "mimetype": "text/x-python",
   "name": "python",
   "nbconvert_exporter": "python",
   "pygments_lexer": "ipython3",
   "version": "3.9.15"
  },
  "toc": {
   "base_numbering": 1,
   "nav_menu": {},
   "number_sections": false,
   "sideBar": true,
   "skip_h1_title": false,
   "title_cell": "Table of Contents",
   "title_sidebar": "Contents",
   "toc_cell": false,
   "toc_position": {},
   "toc_section_display": true,
   "toc_window_display": false
  }
 },
 "nbformat": 4,
 "nbformat_minor": 5
}

{
 "cells": [
  {
   "cell_type": "markdown",
   "id": "976c72f2",
   "metadata": {},
   "source": [
    "Part 4\n",
    "\n",
    "For part 4 of the project, you will be using your MySQL database from part 3 to answer meaningful questions for your stakeholder. They want you to use your hypothesis testing and statistics knowledge to answer 3 questions about what makes a successful movie.\n",
    "\n",
    "Questions to Answer\n",
    "\n",
    "The stakeholder's first question is: does the MPAA rating of a movie (G/PG/PG-13/R) affect how much revenue the movie generates?\n",
    "\n",
    "They want you to perform a statistical test to get a mathematically-supported answer.\n",
    "They want you to report if you found a significant difference between ratings.\n",
    "If so, what was the p-value of your analysis?\n",
    "And which rating earns the most revenue?\n",
    "They want you to prepare a visualization that supports your finding.\n",
    "\n",
    "It is then up to you to think of 2 additional hypotheses to test that your stakeholder may want to know.\n",
    "\n",
    "Some example hypotheses you could test:\n",
    "\n",
    "Do movies that are over 2.5 hours long earn more revenue than movies that are 1.5 hours long (or less)?\n",
    "\n",
    "Do movies released in 2020 earn less revenue than movies released in 2018?\n",
    "\n",
    "How do the years compare for movie ratings?\n",
    "\n",
    "Do some movie genres earn more revenue than others?\n",
    "\n",
    "Are some genres higher rated than others?\n",
    "etc.\n",
    "\n",
    "Specifications\n",
    "\n",
    "Your Data\n",
    "\n",
    "A critical first step for this assignment will be to retrieve additional movie data to add to your SQL database.\n",
    "\n",
    "You will want to use the TMDB API again and extract data for additional years.\n",
    "You may want to review the optional lesson from Week 1 on \"Using Glob to Load Many Files\" to load and combine all of your API results for each year.\n",
    "However, trying to extract the TMDB data for all movies from 2000-2022 could take >24 hours!\n",
    "\n",
    "To address this issue, you should EITHER:\n",
    "Define a smaller (but logical) period of time to use for your analyses (e.g., last 10 years, 2010-2019 (pre-pandemic, etc).\n",
    "\n",
    "OR coordinate with cohort-mates and divide the API calls so that you can all download the data for a smaller number of years and then share your downloaded JSON data.\n",
    "\n",
    "\n",
    "Deliverables\n",
    "\n",
    "You should use the same project repository you have been using for Parts 1-3 (for your portfolio).\n",
    "\n",
    "Create a new notebook in your project repository just for the hypothesis testing (like \"Part 4 - Hypothesis Testing.ipynb\")\n",
    "\n",
    "Make sure the results and visualization for all 3 hypotheses are in your notebook.\n",
    "Please submit the link to your GitHub repository for this assignment."
   ]
  },
  {
   "cell_type": "code",
   "execution_count": 1,
   "id": "8ed6990b",
   "metadata": {},
   "outputs": [],
   "source": [
    "import pandas as pd\n",
    "import numpy as np\n",
    "import matplotlib.pyplot as plt\n",
    "import matplotlib as mpl\n",
    "import seaborn as sns\n",
    "from scipy import stats\n",
    "\n",
    "import warnings\n",
    "warnings.filterwarnings('ignore')"
   ]
  },
  {
   "cell_type": "markdown",
   "id": "3c1fc334",
   "metadata": {},
   "source": [
    "<font size=\"5\">Connect to TMDB through API using JSON<font>"
   ]
  },
  {
   "cell_type": "code",
   "execution_count": 2,
   "id": "2e94f3b7",
   "metadata": {},
   "outputs": [
    {
     "data": {
      "text/plain": [
       "dict_keys(['API Key'])"
      ]
     },
     "execution_count": 2,
     "metadata": {},
     "output_type": "execute_result"
    }
   ],
   "source": [
    "#Load API Credentials\n",
    "import json\n",
    "with open('/Users/benjaminengel/Documents/.Secret/tmdb_api.json') as f:\n",
    "    login = json.load(f)\n",
    "login.keys()"
   ]
  },
  {
   "cell_type": "code",
   "execution_count": 3,
   "id": "a7ece346",
   "metadata": {},
   "outputs": [
    {
     "name": "stdout",
     "output_type": "stream",
     "text": [
      "Requirement already satisfied: tqdm in /opt/homebrew/Caskroom/miniforge/base/envs/dojo-env/lib/python3.9/site-packages (4.64.1)\r\n"
     ]
    }
   ],
   "source": [
    "#Install tqdm\n",
    "!pip install tqdm"
   ]
  },
  {
   "cell_type": "code",
   "execution_count": 4,
   "id": "24432a65",
   "metadata": {},
   "outputs": [
    {
     "name": "stdout",
     "output_type": "stream",
     "text": [
      "Requirement already satisfied: tmdbsimple in /opt/homebrew/Caskroom/miniforge/base/envs/dojo-env/lib/python3.9/site-packages (2.9.1)\r\n",
      "Requirement already satisfied: requests in /opt/homebrew/Caskroom/miniforge/base/envs/dojo-env/lib/python3.9/site-packages (from tmdbsimple) (2.28.1)\r\n",
      "Requirement already satisfied: urllib3<1.27,>=1.21.1 in /opt/homebrew/Caskroom/miniforge/base/envs/dojo-env/lib/python3.9/site-packages (from requests->tmdbsimple) (1.26.13)\r\n",
      "Requirement already satisfied: idna<4,>=2.5 in /opt/homebrew/Caskroom/miniforge/base/envs/dojo-env/lib/python3.9/site-packages (from requests->tmdbsimple) (3.4)\r\n",
      "Requirement already satisfied: charset-normalizer<3,>=2 in /opt/homebrew/Caskroom/miniforge/base/envs/dojo-env/lib/python3.9/site-packages (from requests->tmdbsimple) (2.0.4)\r\n",
      "Requirement already satisfied: certifi>=2017.4.17 in /opt/homebrew/Caskroom/miniforge/base/envs/dojo-env/lib/python3.9/site-packages (from requests->tmdbsimple) (2022.9.24)\r\n"
     ]
    }
   ],
   "source": [
    "# Install tmdbsimple\n",
    "!pip install tmdbsimple"
   ]
  },
  {
   "cell_type": "code",
   "execution_count": 5,
   "id": "19759faf",
   "metadata": {},
   "outputs": [],
   "source": [
    "import tmdbsimple as tmdb\n",
    "tmdb.API_KEY =  login['API Key']"
   ]
  },
  {
   "cell_type": "code",
   "execution_count": 6,
   "id": "15a8e99f",
   "metadata": {},
   "outputs": [
    {
     "data": {
      "text/plain": [
       "['tmdb_api_results_2010.json',\n",
       " 'final_tmdb_data_2018.csv.gz',\n",
       " 'final_tmdb_data_2014.csv.gz',\n",
       " 'final_tmdb_data_2016.csv.gz',\n",
       " 'tmdb_api_results_2011.json',\n",
       " 'tmdb_api_results_2016.json',\n",
       " 'tmdb_api_results_2000.json',\n",
       " 'final_tmdb_data_2000.csv.gz',\n",
       " 'final_tmdb_data_2012.csv.gz',\n",
       " 'tmdb_api_results_2001.json',\n",
       " 'final_tmdb_data_2010.csv.gz',\n",
       " 'title_basics.csv.gz',\n",
       " 'tmdb_api_results_2017.json',\n",
       " 'untitled.txt',\n",
       " 'tmdb_api_results_2018.json',\n",
       " 'final_tmdb_data_2019.csv.gz',\n",
       " 'tmdb_api_results_2014.json',\n",
       " 'final_tmdb_data_2015.csv.gz',\n",
       " 'tmdb_api_results_2015.json',\n",
       " 'final_tmdb_data_2017.csv.gz',\n",
       " 'tmdb_api_results_2019.json',\n",
       " 'final_tmdb_data_2001.csv.gz',\n",
       " '.ipynb_checkpoints',\n",
       " 'final_tmdb_data_2013.csv.gz',\n",
       " 'tmdb_api_results_2012.json',\n",
       " 'title_akas.csv.gz',\n",
       " 'tmdb_results_combined.csv.gz',\n",
       " 'tmdb_api_results_2013.json',\n",
       " 'final_tmdb_data_2011.csv.gz',\n",
       " 'title_ratings.csv.gz']"
      ]
     },
     "execution_count": 6,
     "metadata": {},
     "output_type": "execute_result"
    }
   ],
   "source": [
    "import os\n",
    "FOLDER = \"Data/\"\n",
    "os.makedirs(FOLDER, exist_ok=True)\n",
    "os.listdir(FOLDER)"
   ]
  },
  {
   "cell_type": "code",
   "execution_count": 7,
   "id": "f5e317e2",
   "metadata": {},
   "outputs": [
    {
     "data": {
      "text/html": [
       "<div>\n",
       "<style scoped>\n",
       "    .dataframe tbody tr th:only-of-type {\n",
       "        vertical-align: middle;\n",
       "    }\n",
       "\n",
       "    .dataframe tbody tr th {\n",
       "        vertical-align: top;\n",
       "    }\n",
       "\n",
       "    .dataframe thead th {\n",
       "        text-align: right;\n",
       "    }\n",
       "</style>\n",
       "<table border=\"1\" class=\"dataframe\">\n",
       "  <thead>\n",
       "    <tr style=\"text-align: right;\">\n",
       "      <th></th>\n",
       "      <th>tconst</th>\n",
       "      <th>titleType</th>\n",
       "      <th>primaryTitle</th>\n",
       "      <th>originalTitle</th>\n",
       "      <th>isAdult</th>\n",
       "      <th>startYear</th>\n",
       "      <th>endYear</th>\n",
       "      <th>runtimeMinutes</th>\n",
       "      <th>genres</th>\n",
       "    </tr>\n",
       "  </thead>\n",
       "  <tbody>\n",
       "    <tr>\n",
       "      <th>0</th>\n",
       "      <td>tt0035423</td>\n",
       "      <td>movie</td>\n",
       "      <td>Kate &amp; Leopold</td>\n",
       "      <td>Kate &amp; Leopold</td>\n",
       "      <td>0</td>\n",
       "      <td>2001.0</td>\n",
       "      <td>NaN</td>\n",
       "      <td>118</td>\n",
       "      <td>Comedy,Fantasy,Romance</td>\n",
       "    </tr>\n",
       "    <tr>\n",
       "      <th>1</th>\n",
       "      <td>tt0043139</td>\n",
       "      <td>movie</td>\n",
       "      <td>Life of a Beijing Policeman</td>\n",
       "      <td>Wo zhe yi bei zi</td>\n",
       "      <td>0</td>\n",
       "      <td>2013.0</td>\n",
       "      <td>NaN</td>\n",
       "      <td>120</td>\n",
       "      <td>Drama,History</td>\n",
       "    </tr>\n",
       "    <tr>\n",
       "      <th>2</th>\n",
       "      <td>tt0062336</td>\n",
       "      <td>movie</td>\n",
       "      <td>The Tango of the Widower and Its Distorting Mi...</td>\n",
       "      <td>El tango del viudo y su espejo deformante</td>\n",
       "      <td>0</td>\n",
       "      <td>2020.0</td>\n",
       "      <td>NaN</td>\n",
       "      <td>70</td>\n",
       "      <td>Drama</td>\n",
       "    </tr>\n",
       "    <tr>\n",
       "      <th>3</th>\n",
       "      <td>tt0069049</td>\n",
       "      <td>movie</td>\n",
       "      <td>The Other Side of the Wind</td>\n",
       "      <td>The Other Side of the Wind</td>\n",
       "      <td>0</td>\n",
       "      <td>2018.0</td>\n",
       "      <td>NaN</td>\n",
       "      <td>122</td>\n",
       "      <td>Drama</td>\n",
       "    </tr>\n",
       "    <tr>\n",
       "      <th>4</th>\n",
       "      <td>tt0088751</td>\n",
       "      <td>movie</td>\n",
       "      <td>The Naked Monster</td>\n",
       "      <td>The Naked Monster</td>\n",
       "      <td>0</td>\n",
       "      <td>2005.0</td>\n",
       "      <td>NaN</td>\n",
       "      <td>100</td>\n",
       "      <td>Comedy,Horror,Sci-Fi</td>\n",
       "    </tr>\n",
       "    <tr>\n",
       "      <th>...</th>\n",
       "      <td>...</td>\n",
       "      <td>...</td>\n",
       "      <td>...</td>\n",
       "      <td>...</td>\n",
       "      <td>...</td>\n",
       "      <td>...</td>\n",
       "      <td>...</td>\n",
       "      <td>...</td>\n",
       "      <td>...</td>\n",
       "    </tr>\n",
       "    <tr>\n",
       "      <th>81835</th>\n",
       "      <td>tt9914942</td>\n",
       "      <td>movie</td>\n",
       "      <td>Life Without Sara Amat</td>\n",
       "      <td>La vida sense la Sara Amat</td>\n",
       "      <td>0</td>\n",
       "      <td>2019.0</td>\n",
       "      <td>NaN</td>\n",
       "      <td>74</td>\n",
       "      <td>Drama</td>\n",
       "    </tr>\n",
       "    <tr>\n",
       "      <th>81836</th>\n",
       "      <td>tt9915872</td>\n",
       "      <td>movie</td>\n",
       "      <td>The Last White Witch</td>\n",
       "      <td>My Girlfriend is a Wizard</td>\n",
       "      <td>0</td>\n",
       "      <td>2019.0</td>\n",
       "      <td>NaN</td>\n",
       "      <td>97</td>\n",
       "      <td>Comedy,Drama,Fantasy</td>\n",
       "    </tr>\n",
       "    <tr>\n",
       "      <th>81837</th>\n",
       "      <td>tt9916170</td>\n",
       "      <td>movie</td>\n",
       "      <td>The Rehearsal</td>\n",
       "      <td>O Ensaio</td>\n",
       "      <td>0</td>\n",
       "      <td>2019.0</td>\n",
       "      <td>NaN</td>\n",
       "      <td>51</td>\n",
       "      <td>Drama</td>\n",
       "    </tr>\n",
       "    <tr>\n",
       "      <th>81838</th>\n",
       "      <td>tt9916190</td>\n",
       "      <td>movie</td>\n",
       "      <td>Safeguard</td>\n",
       "      <td>Safeguard</td>\n",
       "      <td>0</td>\n",
       "      <td>2020.0</td>\n",
       "      <td>NaN</td>\n",
       "      <td>95</td>\n",
       "      <td>Action,Adventure,Thriller</td>\n",
       "    </tr>\n",
       "    <tr>\n",
       "      <th>81839</th>\n",
       "      <td>tt9916362</td>\n",
       "      <td>movie</td>\n",
       "      <td>Coven</td>\n",
       "      <td>Akelarre</td>\n",
       "      <td>0</td>\n",
       "      <td>2020.0</td>\n",
       "      <td>NaN</td>\n",
       "      <td>92</td>\n",
       "      <td>Drama,History</td>\n",
       "    </tr>\n",
       "  </tbody>\n",
       "</table>\n",
       "<p>81840 rows × 9 columns</p>\n",
       "</div>"
      ],
      "text/plain": [
       "          tconst titleType                                       primaryTitle  \\\n",
       "0      tt0035423     movie                                     Kate & Leopold   \n",
       "1      tt0043139     movie                        Life of a Beijing Policeman   \n",
       "2      tt0062336     movie  The Tango of the Widower and Its Distorting Mi...   \n",
       "3      tt0069049     movie                         The Other Side of the Wind   \n",
       "4      tt0088751     movie                                  The Naked Monster   \n",
       "...          ...       ...                                                ...   \n",
       "81835  tt9914942     movie                             Life Without Sara Amat   \n",
       "81836  tt9915872     movie                               The Last White Witch   \n",
       "81837  tt9916170     movie                                      The Rehearsal   \n",
       "81838  tt9916190     movie                                          Safeguard   \n",
       "81839  tt9916362     movie                                              Coven   \n",
       "\n",
       "                                   originalTitle  isAdult  startYear  endYear  \\\n",
       "0                                 Kate & Leopold        0     2001.0      NaN   \n",
       "1                               Wo zhe yi bei zi        0     2013.0      NaN   \n",
       "2      El tango del viudo y su espejo deformante        0     2020.0      NaN   \n",
       "3                     The Other Side of the Wind        0     2018.0      NaN   \n",
       "4                              The Naked Monster        0     2005.0      NaN   \n",
       "...                                          ...      ...        ...      ...   \n",
       "81835                 La vida sense la Sara Amat        0     2019.0      NaN   \n",
       "81836                  My Girlfriend is a Wizard        0     2019.0      NaN   \n",
       "81837                                   O Ensaio        0     2019.0      NaN   \n",
       "81838                                  Safeguard        0     2020.0      NaN   \n",
       "81839                                   Akelarre        0     2020.0      NaN   \n",
       "\n",
       "       runtimeMinutes                     genres  \n",
       "0                 118     Comedy,Fantasy,Romance  \n",
       "1                 120              Drama,History  \n",
       "2                  70                      Drama  \n",
       "3                 122                      Drama  \n",
       "4                 100       Comedy,Horror,Sci-Fi  \n",
       "...               ...                        ...  \n",
       "81835              74                      Drama  \n",
       "81836              97       Comedy,Drama,Fantasy  \n",
       "81837              51                      Drama  \n",
       "81838              95  Action,Adventure,Thriller  \n",
       "81839              92              Drama,History  \n",
       "\n",
       "[81840 rows x 9 columns]"
      ]
     },
     "execution_count": 7,
     "metadata": {},
     "output_type": "execute_result"
    }
   ],
   "source": [
    "basics=pd.read_csv(\"Data/title_basics.csv.gz\", low_memory = False)\n",
    "basics"
   ]
  },
  {
   "cell_type": "code",
   "execution_count": 8,
   "id": "7a772d32",
   "metadata": {},
   "outputs": [
    {
     "data": {
      "text/html": [
       "<div>\n",
       "<style scoped>\n",
       "    .dataframe tbody tr th:only-of-type {\n",
       "        vertical-align: middle;\n",
       "    }\n",
       "\n",
       "    .dataframe tbody tr th {\n",
       "        vertical-align: top;\n",
       "    }\n",
       "\n",
       "    .dataframe thead th {\n",
       "        text-align: right;\n",
       "    }\n",
       "</style>\n",
       "<table border=\"1\" class=\"dataframe\">\n",
       "  <thead>\n",
       "    <tr style=\"text-align: right;\">\n",
       "      <th></th>\n",
       "      <th>titleId</th>\n",
       "      <th>ordering</th>\n",
       "      <th>title</th>\n",
       "      <th>region</th>\n",
       "      <th>language</th>\n",
       "      <th>types</th>\n",
       "      <th>attributes</th>\n",
       "      <th>isOriginalTitle</th>\n",
       "    </tr>\n",
       "  </thead>\n",
       "  <tbody>\n",
       "    <tr>\n",
       "      <th>0</th>\n",
       "      <td>tt0000001</td>\n",
       "      <td>6</td>\n",
       "      <td>Carmencita</td>\n",
       "      <td>US</td>\n",
       "      <td>NaN</td>\n",
       "      <td>imdbDisplay</td>\n",
       "      <td>NaN</td>\n",
       "      <td>0.0</td>\n",
       "    </tr>\n",
       "    <tr>\n",
       "      <th>1</th>\n",
       "      <td>tt0000002</td>\n",
       "      <td>7</td>\n",
       "      <td>The Clown and His Dogs</td>\n",
       "      <td>US</td>\n",
       "      <td>NaN</td>\n",
       "      <td>NaN</td>\n",
       "      <td>literal English title</td>\n",
       "      <td>0.0</td>\n",
       "    </tr>\n",
       "    <tr>\n",
       "      <th>2</th>\n",
       "      <td>tt0000005</td>\n",
       "      <td>10</td>\n",
       "      <td>Blacksmith Scene</td>\n",
       "      <td>US</td>\n",
       "      <td>NaN</td>\n",
       "      <td>imdbDisplay</td>\n",
       "      <td>NaN</td>\n",
       "      <td>0.0</td>\n",
       "    </tr>\n",
       "    <tr>\n",
       "      <th>3</th>\n",
       "      <td>tt0000005</td>\n",
       "      <td>1</td>\n",
       "      <td>Blacksmithing Scene</td>\n",
       "      <td>US</td>\n",
       "      <td>NaN</td>\n",
       "      <td>alternative</td>\n",
       "      <td>NaN</td>\n",
       "      <td>0.0</td>\n",
       "    </tr>\n",
       "    <tr>\n",
       "      <th>4</th>\n",
       "      <td>tt0000005</td>\n",
       "      <td>6</td>\n",
       "      <td>Blacksmith Scene #1</td>\n",
       "      <td>US</td>\n",
       "      <td>NaN</td>\n",
       "      <td>alternative</td>\n",
       "      <td>NaN</td>\n",
       "      <td>0.0</td>\n",
       "    </tr>\n",
       "    <tr>\n",
       "      <th>...</th>\n",
       "      <td>...</td>\n",
       "      <td>...</td>\n",
       "      <td>...</td>\n",
       "      <td>...</td>\n",
       "      <td>...</td>\n",
       "      <td>...</td>\n",
       "      <td>...</td>\n",
       "      <td>...</td>\n",
       "    </tr>\n",
       "    <tr>\n",
       "      <th>1449095</th>\n",
       "      <td>tt9916560</td>\n",
       "      <td>1</td>\n",
       "      <td>March of Dimes Presents: Once Upon a Dime</td>\n",
       "      <td>US</td>\n",
       "      <td>NaN</td>\n",
       "      <td>imdbDisplay</td>\n",
       "      <td>NaN</td>\n",
       "      <td>0.0</td>\n",
       "    </tr>\n",
       "    <tr>\n",
       "      <th>1449096</th>\n",
       "      <td>tt9916620</td>\n",
       "      <td>1</td>\n",
       "      <td>The Copeland Case</td>\n",
       "      <td>US</td>\n",
       "      <td>NaN</td>\n",
       "      <td>imdbDisplay</td>\n",
       "      <td>NaN</td>\n",
       "      <td>0.0</td>\n",
       "    </tr>\n",
       "    <tr>\n",
       "      <th>1449097</th>\n",
       "      <td>tt9916702</td>\n",
       "      <td>1</td>\n",
       "      <td>Loving London: The Playground</td>\n",
       "      <td>US</td>\n",
       "      <td>NaN</td>\n",
       "      <td>NaN</td>\n",
       "      <td>NaN</td>\n",
       "      <td>0.0</td>\n",
       "    </tr>\n",
       "    <tr>\n",
       "      <th>1449098</th>\n",
       "      <td>tt9916756</td>\n",
       "      <td>1</td>\n",
       "      <td>Pretty Pretty Black Girl</td>\n",
       "      <td>US</td>\n",
       "      <td>NaN</td>\n",
       "      <td>imdbDisplay</td>\n",
       "      <td>NaN</td>\n",
       "      <td>0.0</td>\n",
       "    </tr>\n",
       "    <tr>\n",
       "      <th>1449099</th>\n",
       "      <td>tt9916764</td>\n",
       "      <td>1</td>\n",
       "      <td>38</td>\n",
       "      <td>US</td>\n",
       "      <td>NaN</td>\n",
       "      <td>imdbDisplay</td>\n",
       "      <td>NaN</td>\n",
       "      <td>0.0</td>\n",
       "    </tr>\n",
       "  </tbody>\n",
       "</table>\n",
       "<p>1449100 rows × 8 columns</p>\n",
       "</div>"
      ],
      "text/plain": [
       "           titleId  ordering                                      title  \\\n",
       "0        tt0000001         6                                 Carmencita   \n",
       "1        tt0000002         7                     The Clown and His Dogs   \n",
       "2        tt0000005        10                           Blacksmith Scene   \n",
       "3        tt0000005         1                        Blacksmithing Scene   \n",
       "4        tt0000005         6                        Blacksmith Scene #1   \n",
       "...            ...       ...                                        ...   \n",
       "1449095  tt9916560         1  March of Dimes Presents: Once Upon a Dime   \n",
       "1449096  tt9916620         1                          The Copeland Case   \n",
       "1449097  tt9916702         1              Loving London: The Playground   \n",
       "1449098  tt9916756         1                   Pretty Pretty Black Girl   \n",
       "1449099  tt9916764         1                                         38   \n",
       "\n",
       "        region language        types             attributes  isOriginalTitle  \n",
       "0           US      NaN  imdbDisplay                    NaN              0.0  \n",
       "1           US      NaN          NaN  literal English title              0.0  \n",
       "2           US      NaN  imdbDisplay                    NaN              0.0  \n",
       "3           US      NaN  alternative                    NaN              0.0  \n",
       "4           US      NaN  alternative                    NaN              0.0  \n",
       "...        ...      ...          ...                    ...              ...  \n",
       "1449095     US      NaN  imdbDisplay                    NaN              0.0  \n",
       "1449096     US      NaN  imdbDisplay                    NaN              0.0  \n",
       "1449097     US      NaN          NaN                    NaN              0.0  \n",
       "1449098     US      NaN  imdbDisplay                    NaN              0.0  \n",
       "1449099     US      NaN  imdbDisplay                    NaN              0.0  \n",
       "\n",
       "[1449100 rows x 8 columns]"
      ]
     },
     "execution_count": 8,
     "metadata": {},
     "output_type": "execute_result"
    }
   ],
   "source": [
    "akas=pd.read_csv(\"Data/title_akas.csv.gz\", low_memory = False)\n",
    "akas"
   ]
  },
  {
   "cell_type": "code",
   "execution_count": 9,
   "id": "2de72b25",
   "metadata": {},
   "outputs": [
    {
     "data": {
      "text/html": [
       "<div>\n",
       "<style scoped>\n",
       "    .dataframe tbody tr th:only-of-type {\n",
       "        vertical-align: middle;\n",
       "    }\n",
       "\n",
       "    .dataframe tbody tr th {\n",
       "        vertical-align: top;\n",
       "    }\n",
       "\n",
       "    .dataframe thead th {\n",
       "        text-align: right;\n",
       "    }\n",
       "</style>\n",
       "<table border=\"1\" class=\"dataframe\">\n",
       "  <thead>\n",
       "    <tr style=\"text-align: right;\">\n",
       "      <th></th>\n",
       "      <th>tconst</th>\n",
       "      <th>averageRating</th>\n",
       "      <th>numVotes</th>\n",
       "    </tr>\n",
       "  </thead>\n",
       "  <tbody>\n",
       "    <tr>\n",
       "      <th>0</th>\n",
       "      <td>tt0000001</td>\n",
       "      <td>5.7</td>\n",
       "      <td>1982</td>\n",
       "    </tr>\n",
       "    <tr>\n",
       "      <th>1</th>\n",
       "      <td>tt0000002</td>\n",
       "      <td>5.8</td>\n",
       "      <td>265</td>\n",
       "    </tr>\n",
       "    <tr>\n",
       "      <th>2</th>\n",
       "      <td>tt0000005</td>\n",
       "      <td>6.2</td>\n",
       "      <td>2622</td>\n",
       "    </tr>\n",
       "    <tr>\n",
       "      <th>3</th>\n",
       "      <td>tt0000006</td>\n",
       "      <td>5.1</td>\n",
       "      <td>182</td>\n",
       "    </tr>\n",
       "    <tr>\n",
       "      <th>4</th>\n",
       "      <td>tt0000007</td>\n",
       "      <td>5.4</td>\n",
       "      <td>820</td>\n",
       "    </tr>\n",
       "    <tr>\n",
       "      <th>...</th>\n",
       "      <td>...</td>\n",
       "      <td>...</td>\n",
       "      <td>...</td>\n",
       "    </tr>\n",
       "    <tr>\n",
       "      <th>502719</th>\n",
       "      <td>tt9916200</td>\n",
       "      <td>8.1</td>\n",
       "      <td>230</td>\n",
       "    </tr>\n",
       "    <tr>\n",
       "      <th>502720</th>\n",
       "      <td>tt9916204</td>\n",
       "      <td>8.2</td>\n",
       "      <td>264</td>\n",
       "    </tr>\n",
       "    <tr>\n",
       "      <th>502721</th>\n",
       "      <td>tt9916348</td>\n",
       "      <td>8.3</td>\n",
       "      <td>18</td>\n",
       "    </tr>\n",
       "    <tr>\n",
       "      <th>502722</th>\n",
       "      <td>tt9916362</td>\n",
       "      <td>6.4</td>\n",
       "      <td>5403</td>\n",
       "    </tr>\n",
       "    <tr>\n",
       "      <th>502723</th>\n",
       "      <td>tt9916428</td>\n",
       "      <td>3.8</td>\n",
       "      <td>14</td>\n",
       "    </tr>\n",
       "  </tbody>\n",
       "</table>\n",
       "<p>502724 rows × 3 columns</p>\n",
       "</div>"
      ],
      "text/plain": [
       "           tconst  averageRating  numVotes\n",
       "0       tt0000001            5.7      1982\n",
       "1       tt0000002            5.8       265\n",
       "2       tt0000005            6.2      2622\n",
       "3       tt0000006            5.1       182\n",
       "4       tt0000007            5.4       820\n",
       "...           ...            ...       ...\n",
       "502719  tt9916200            8.1       230\n",
       "502720  tt9916204            8.2       264\n",
       "502721  tt9916348            8.3        18\n",
       "502722  tt9916362            6.4      5403\n",
       "502723  tt9916428            3.8        14\n",
       "\n",
       "[502724 rows x 3 columns]"
      ]
     },
     "execution_count": 9,
     "metadata": {},
     "output_type": "execute_result"
    }
   ],
   "source": [
    "ratings=pd.read_csv(\"Data/title_ratings.csv.gz\", low_memory = False)\n",
    "ratings"
   ]
  },
  {
   "cell_type": "code",
   "execution_count": 10,
   "id": "dda57d87",
   "metadata": {},
   "outputs": [],
   "source": [
    "#From the LP\n",
    "def write_json(new_data, filename): \n",
    "    \"\"\"Appends a list of records (new_data) to a json file (filename). \n",
    "    Adapted from: https://www.geeksforgeeks.org/append-to-json-file-using-python/\"\"\"  \n",
    "    \n",
    "    with open(filename,'r+') as file:\n",
    "        # First we load existing data into a dict.\n",
    "        file_data = json.load(file)\n",
    "        ## Choose extend or append\n",
    "        if (type(new_data) == list) & (type(file_data) == list):\n",
    "            file_data.extend(new_data)\n",
    "        else:\n",
    "             file_data.append(new_data)\n",
    "        # Sets file's current position at offset.\n",
    "        file.seek(0)\n",
    "        # convert back to json.\n",
    "        json.dump(file_data, file)"
   ]
  },
  {
   "cell_type": "code",
   "execution_count": 11,
   "id": "a2e9899e",
   "metadata": {},
   "outputs": [],
   "source": [
    "def get_movie_with_rating(movie_id):\n",
    "    \"\"\"Copied from Coding Dojo Learning Platform\"\"\"\n",
    "    # Get the movie object for the current id\n",
    "    movie = tmdb.Movies(movie_id)\n",
    "    # save the .info .releases dictionaries\n",
    "    info = movie.info()\n",
    "    releases = movie.releases()\n",
    "    # Loop through countries in releases\n",
    "    for c in releases['countries']:\n",
    "        # if the country abbreviation==US\n",
    "        if c['iso_3166_1' ] =='US':\n",
    "            ## save a \"certification\" key in the info dict with the certification\n",
    "            info['certification'] = c['certification']\n",
    "    \n",
    "    return info"
   ]
  },
  {
   "cell_type": "code",
   "execution_count": 12,
   "id": "d94fc32c",
   "metadata": {},
   "outputs": [],
   "source": [
    "#Make object for years needed.\n",
    "YEARS_TO_GET = [2010,2011,2012,2013,2014,2015,2016,2017,2018,2019]"
   ]
  },
  {
   "cell_type": "code",
   "execution_count": 13,
   "id": "53d8de9e",
   "metadata": {},
   "outputs": [],
   "source": [
    "#Make object for Errors.\n",
    "errors = []"
   ]
  },
  {
   "cell_type": "code",
   "execution_count": 14,
   "id": "0be35ff8",
   "metadata": {},
   "outputs": [
    {
     "data": {
      "application/vnd.jupyter.widget-view+json": {
       "model_id": "d0ba071991e7439ab177d14615869f93",
       "version_major": 2,
       "version_minor": 0
      },
      "text/plain": [
       "YEARS:   0%|          | 0/10 [00:00<?, ?it/s]"
      ]
     },
     "metadata": {},
     "output_type": "display_data"
    },
    {
     "data": {
      "application/vnd.jupyter.widget-view+json": {
       "model_id": "94f621ea18bf46fc9a7f6df7a0811391",
       "version_major": 2,
       "version_minor": 0
      },
      "text/plain": [
       "Movies from 2010:   0%|          | 0/1139 [00:00<?, ?it/s]"
      ]
     },
     "metadata": {},
     "output_type": "display_data"
    },
    {
     "data": {
      "application/vnd.jupyter.widget-view+json": {
       "model_id": "8e6faefbba3b41238d499d0925aab4a0",
       "version_major": 2,
       "version_minor": 0
      },
      "text/plain": [
       "Movies from 2011:   0%|          | 0/1208 [00:00<?, ?it/s]"
      ]
     },
     "metadata": {},
     "output_type": "display_data"
    },
    {
     "data": {
      "application/vnd.jupyter.widget-view+json": {
       "model_id": "61f6cae000404f45abbb1c04afcec9a2",
       "version_major": 2,
       "version_minor": 0
      },
      "text/plain": [
       "Movies from 2012:   0%|          | 0/1203 [00:00<?, ?it/s]"
      ]
     },
     "metadata": {},
     "output_type": "display_data"
    },
    {
     "data": {
      "application/vnd.jupyter.widget-view+json": {
       "model_id": "a62bcc9b9e6f4cbfa9af7e552552ac99",
       "version_major": 2,
       "version_minor": 0
      },
      "text/plain": [
       "Movies from 2013:   0%|          | 0/1162 [00:00<?, ?it/s]"
      ]
     },
     "metadata": {},
     "output_type": "display_data"
    },
    {
     "data": {
      "application/vnd.jupyter.widget-view+json": {
       "model_id": "1229c95c0d4b448f9e67e27f4e5b49e2",
       "version_major": 2,
       "version_minor": 0
      },
      "text/plain": [
       "Movies from 2014:   0%|          | 0/1151 [00:00<?, ?it/s]"
      ]
     },
     "metadata": {},
     "output_type": "display_data"
    },
    {
     "data": {
      "application/vnd.jupyter.widget-view+json": {
       "model_id": "1a3a338869fa4e18b7012e3b28d24934",
       "version_major": 2,
       "version_minor": 0
      },
      "text/plain": [
       "Movies from 2015:   0%|          | 0/1219 [00:00<?, ?it/s]"
      ]
     },
     "metadata": {},
     "output_type": "display_data"
    },
    {
     "data": {
      "application/vnd.jupyter.widget-view+json": {
       "model_id": "e5bc4b13959747beb83867746b049c05",
       "version_major": 2,
       "version_minor": 0
      },
      "text/plain": [
       "Movies from 2016:   0%|          | 0/1177 [00:00<?, ?it/s]"
      ]
     },
     "metadata": {},
     "output_type": "display_data"
    },
    {
     "data": {
      "application/vnd.jupyter.widget-view+json": {
       "model_id": "0891a9fc781740e4af419e8a52be07c2",
       "version_major": 2,
       "version_minor": 0
      },
      "text/plain": [
       "Movies from 2017:   0%|          | 0/1195 [00:00<?, ?it/s]"
      ]
     },
     "metadata": {},
     "output_type": "display_data"
    },
    {
     "data": {
      "application/vnd.jupyter.widget-view+json": {
       "model_id": "ba99ea52b3b2491b9220eb1d28162362",
       "version_major": 2,
       "version_minor": 0
      },
      "text/plain": [
       "Movies from 2018:   0%|          | 0/1101 [00:00<?, ?it/s]"
      ]
     },
     "metadata": {},
     "output_type": "display_data"
    },
    {
     "data": {
      "application/vnd.jupyter.widget-view+json": {
       "model_id": "4def2ee204e3457ca14cb586a12cdf9c",
       "version_major": 2,
       "version_minor": 0
      },
      "text/plain": [
       "Movies from 2019:   0%|          | 0/977 [00:00<?, ?it/s]"
      ]
     },
     "metadata": {},
     "output_type": "display_data"
    },
    {
     "name": "stdout",
     "output_type": "stream",
     "text": [
      "- Total errors: 11532\n"
     ]
    }
   ],
   "source": [
    "from tqdm import tqdm_notebook\n",
    "# Start of OUTER loop\n",
    "for YEAR in tqdm_notebook(YEARS_TO_GET, desc='YEARS', position=0):\n",
    "\n",
    "    #Defining the JSON file to store results for year\n",
    "    JSON_FILE = f'{FOLDER}tmdb_api_results_{YEAR}.json'\n",
    "\n",
    "    # Check if file exists\n",
    "    file_exists = os.path.isfile(JSON_FILE)\n",
    "    # If it does not exist: create it\n",
    "    if file_exists == False:\n",
    "        # save an empty dict with just \"imdb_id\" to the new json file.\n",
    "        with open(JSON_FILE,'w') as f:\n",
    "            json.dump([{'imdb_id':0}],f)\n",
    "\n",
    "    #Saving new year as the current df\n",
    "    df = basics.loc[ basics['startYear']==YEAR].copy()\n",
    "    # saving movie ids to list\n",
    "    movie_ids = df['tconst'].copy()\n",
    "\n",
    "    # Load existing data from json into a dataframe called \"previous_df\"\n",
    "    previous_df = pd.read_json(JSON_FILE)\n",
    "\n",
    "    # filter out any ids that are already in the JSON_FILE\n",
    "    movie_ids_to_get = movie_ids[~movie_ids.isin(previous_df['imdb_id'])]\n",
    "\n",
    "\n",
    "\n",
    "    #Get index and movie id from list\n",
    "    # INNER Loop\n",
    "    for movie_id in tqdm_notebook(movie_ids_to_get,\n",
    "                                  desc=f'Movies from {YEAR}',\n",
    "                                  position=1,\n",
    "                                  leave=True):\n",
    "        try:\n",
    "            # Retrieve then data for the movie id\n",
    "            temp = get_movie_with_rating(movie_id)  \n",
    "            # Append/extend results to existing file using a pre-made function\n",
    "            write_json(temp,JSON_FILE)\n",
    "            # Short 20 ms sleep to prevent overwhelming server\n",
    "            time.sleep(0.02)\n",
    "            \n",
    "        except Exception as e:\n",
    "            errors.append([movie_id, e])\n",
    "            \n",
    "    #Save the year's results as csv.gz file\n",
    "    final_year_df = pd.read_json(JSON_FILE)\n",
    "    final_year_df.to_csv(f\"{FOLDER}final_tmdb_data_{YEAR}.csv.gz\",\n",
    "                         compression=\"gzip\", index=False)\n",
    "\n",
    "#Print number of errors\n",
    "print(f\"- Total errors: {len(errors)}\")"
   ]
  },
  {
   "cell_type": "code",
   "execution_count": 15,
   "id": "d99709c1",
   "metadata": {},
   "outputs": [
    {
     "ename": "ParserError",
     "evalue": "Error tokenizing data. C error: Buffer overflow caught - possible malformed input file.\n",
     "output_type": "error",
     "traceback": [
      "\u001b[0;31m---------------------------------------------------------------------------\u001b[0m",
      "\u001b[0;31mParserError\u001b[0m                               Traceback (most recent call last)",
      "Cell \u001b[0;32mIn [15], line 2\u001b[0m\n\u001b[1;32m      1\u001b[0m data2010 \u001b[38;5;241m=\u001b[39m pd\u001b[38;5;241m.\u001b[39mread_csv(\u001b[38;5;124m'\u001b[39m\u001b[38;5;124mData/final_tmdb_data_2010.csv.gz\u001b[39m\u001b[38;5;124m'\u001b[39m)\n\u001b[0;32m----> 2\u001b[0m data2011 \u001b[38;5;241m=\u001b[39m \u001b[43mpd\u001b[49m\u001b[38;5;241;43m.\u001b[39;49m\u001b[43mread_csv\u001b[49m\u001b[43m(\u001b[49m\u001b[38;5;124;43m'\u001b[39;49m\u001b[38;5;124;43mData/final_tmdb_data_2011.csv.gz\u001b[39;49m\u001b[38;5;124;43m'\u001b[39;49m\u001b[43m)\u001b[49m\n\u001b[1;32m      3\u001b[0m data2012 \u001b[38;5;241m=\u001b[39m pd\u001b[38;5;241m.\u001b[39mread_csv(\u001b[38;5;124m'\u001b[39m\u001b[38;5;124mData/final_tmdb_data_2012.csv.gz\u001b[39m\u001b[38;5;124m'\u001b[39m)\n\u001b[1;32m      4\u001b[0m data2013 \u001b[38;5;241m=\u001b[39m pd\u001b[38;5;241m.\u001b[39mread_csv(\u001b[38;5;124m'\u001b[39m\u001b[38;5;124mData/final_tmdb_data_2013.csv.gz\u001b[39m\u001b[38;5;124m'\u001b[39m)\n",
      "File \u001b[0;32m/opt/homebrew/Caskroom/miniforge/base/envs/dojo-env/lib/python3.9/site-packages/pandas/util/_decorators.py:211\u001b[0m, in \u001b[0;36mdeprecate_kwarg.<locals>._deprecate_kwarg.<locals>.wrapper\u001b[0;34m(*args, **kwargs)\u001b[0m\n\u001b[1;32m    209\u001b[0m     \u001b[38;5;28;01melse\u001b[39;00m:\n\u001b[1;32m    210\u001b[0m         kwargs[new_arg_name] \u001b[38;5;241m=\u001b[39m new_arg_value\n\u001b[0;32m--> 211\u001b[0m \u001b[38;5;28;01mreturn\u001b[39;00m \u001b[43mfunc\u001b[49m\u001b[43m(\u001b[49m\u001b[38;5;241;43m*\u001b[39;49m\u001b[43margs\u001b[49m\u001b[43m,\u001b[49m\u001b[43m \u001b[49m\u001b[38;5;241;43m*\u001b[39;49m\u001b[38;5;241;43m*\u001b[39;49m\u001b[43mkwargs\u001b[49m\u001b[43m)\u001b[49m\n",
      "File \u001b[0;32m/opt/homebrew/Caskroom/miniforge/base/envs/dojo-env/lib/python3.9/site-packages/pandas/util/_decorators.py:331\u001b[0m, in \u001b[0;36mdeprecate_nonkeyword_arguments.<locals>.decorate.<locals>.wrapper\u001b[0;34m(*args, **kwargs)\u001b[0m\n\u001b[1;32m    325\u001b[0m \u001b[38;5;28;01mif\u001b[39;00m \u001b[38;5;28mlen\u001b[39m(args) \u001b[38;5;241m>\u001b[39m num_allow_args:\n\u001b[1;32m    326\u001b[0m     warnings\u001b[38;5;241m.\u001b[39mwarn(\n\u001b[1;32m    327\u001b[0m         msg\u001b[38;5;241m.\u001b[39mformat(arguments\u001b[38;5;241m=\u001b[39m_format_argument_list(allow_args)),\n\u001b[1;32m    328\u001b[0m         \u001b[38;5;167;01mFutureWarning\u001b[39;00m,\n\u001b[1;32m    329\u001b[0m         stacklevel\u001b[38;5;241m=\u001b[39mfind_stack_level(),\n\u001b[1;32m    330\u001b[0m     )\n\u001b[0;32m--> 331\u001b[0m \u001b[38;5;28;01mreturn\u001b[39;00m \u001b[43mfunc\u001b[49m\u001b[43m(\u001b[49m\u001b[38;5;241;43m*\u001b[39;49m\u001b[43margs\u001b[49m\u001b[43m,\u001b[49m\u001b[43m \u001b[49m\u001b[38;5;241;43m*\u001b[39;49m\u001b[38;5;241;43m*\u001b[39;49m\u001b[43mkwargs\u001b[49m\u001b[43m)\u001b[49m\n",
      "File \u001b[0;32m/opt/homebrew/Caskroom/miniforge/base/envs/dojo-env/lib/python3.9/site-packages/pandas/io/parsers/readers.py:950\u001b[0m, in \u001b[0;36mread_csv\u001b[0;34m(filepath_or_buffer, sep, delimiter, header, names, index_col, usecols, squeeze, prefix, mangle_dupe_cols, dtype, engine, converters, true_values, false_values, skipinitialspace, skiprows, skipfooter, nrows, na_values, keep_default_na, na_filter, verbose, skip_blank_lines, parse_dates, infer_datetime_format, keep_date_col, date_parser, dayfirst, cache_dates, iterator, chunksize, compression, thousands, decimal, lineterminator, quotechar, quoting, doublequote, escapechar, comment, encoding, encoding_errors, dialect, error_bad_lines, warn_bad_lines, on_bad_lines, delim_whitespace, low_memory, memory_map, float_precision, storage_options)\u001b[0m\n\u001b[1;32m    935\u001b[0m kwds_defaults \u001b[38;5;241m=\u001b[39m _refine_defaults_read(\n\u001b[1;32m    936\u001b[0m     dialect,\n\u001b[1;32m    937\u001b[0m     delimiter,\n\u001b[0;32m   (...)\u001b[0m\n\u001b[1;32m    946\u001b[0m     defaults\u001b[38;5;241m=\u001b[39m{\u001b[38;5;124m\"\u001b[39m\u001b[38;5;124mdelimiter\u001b[39m\u001b[38;5;124m\"\u001b[39m: \u001b[38;5;124m\"\u001b[39m\u001b[38;5;124m,\u001b[39m\u001b[38;5;124m\"\u001b[39m},\n\u001b[1;32m    947\u001b[0m )\n\u001b[1;32m    948\u001b[0m kwds\u001b[38;5;241m.\u001b[39mupdate(kwds_defaults)\n\u001b[0;32m--> 950\u001b[0m \u001b[38;5;28;01mreturn\u001b[39;00m \u001b[43m_read\u001b[49m\u001b[43m(\u001b[49m\u001b[43mfilepath_or_buffer\u001b[49m\u001b[43m,\u001b[49m\u001b[43m \u001b[49m\u001b[43mkwds\u001b[49m\u001b[43m)\u001b[49m\n",
      "File \u001b[0;32m/opt/homebrew/Caskroom/miniforge/base/envs/dojo-env/lib/python3.9/site-packages/pandas/io/parsers/readers.py:611\u001b[0m, in \u001b[0;36m_read\u001b[0;34m(filepath_or_buffer, kwds)\u001b[0m\n\u001b[1;32m    608\u001b[0m     \u001b[38;5;28;01mreturn\u001b[39;00m parser\n\u001b[1;32m    610\u001b[0m \u001b[38;5;28;01mwith\u001b[39;00m parser:\n\u001b[0;32m--> 611\u001b[0m     \u001b[38;5;28;01mreturn\u001b[39;00m \u001b[43mparser\u001b[49m\u001b[38;5;241;43m.\u001b[39;49m\u001b[43mread\u001b[49m\u001b[43m(\u001b[49m\u001b[43mnrows\u001b[49m\u001b[43m)\u001b[49m\n",
      "File \u001b[0;32m/opt/homebrew/Caskroom/miniforge/base/envs/dojo-env/lib/python3.9/site-packages/pandas/io/parsers/readers.py:1778\u001b[0m, in \u001b[0;36mTextFileReader.read\u001b[0;34m(self, nrows)\u001b[0m\n\u001b[1;32m   1771\u001b[0m nrows \u001b[38;5;241m=\u001b[39m validate_integer(\u001b[38;5;124m\"\u001b[39m\u001b[38;5;124mnrows\u001b[39m\u001b[38;5;124m\"\u001b[39m, nrows)\n\u001b[1;32m   1772\u001b[0m \u001b[38;5;28;01mtry\u001b[39;00m:\n\u001b[1;32m   1773\u001b[0m     \u001b[38;5;66;03m# error: \"ParserBase\" has no attribute \"read\"\u001b[39;00m\n\u001b[1;32m   1774\u001b[0m     (\n\u001b[1;32m   1775\u001b[0m         index,\n\u001b[1;32m   1776\u001b[0m         columns,\n\u001b[1;32m   1777\u001b[0m         col_dict,\n\u001b[0;32m-> 1778\u001b[0m     ) \u001b[38;5;241m=\u001b[39m \u001b[38;5;28;43mself\u001b[39;49m\u001b[38;5;241;43m.\u001b[39;49m\u001b[43m_engine\u001b[49m\u001b[38;5;241;43m.\u001b[39;49m\u001b[43mread\u001b[49m\u001b[43m(\u001b[49m\u001b[43m  \u001b[49m\u001b[38;5;66;43;03m# type: ignore[attr-defined]\u001b[39;49;00m\n\u001b[1;32m   1779\u001b[0m \u001b[43m        \u001b[49m\u001b[43mnrows\u001b[49m\n\u001b[1;32m   1780\u001b[0m \u001b[43m    \u001b[49m\u001b[43m)\u001b[49m\n\u001b[1;32m   1781\u001b[0m \u001b[38;5;28;01mexcept\u001b[39;00m \u001b[38;5;167;01mException\u001b[39;00m:\n\u001b[1;32m   1782\u001b[0m     \u001b[38;5;28mself\u001b[39m\u001b[38;5;241m.\u001b[39mclose()\n",
      "File \u001b[0;32m/opt/homebrew/Caskroom/miniforge/base/envs/dojo-env/lib/python3.9/site-packages/pandas/io/parsers/c_parser_wrapper.py:230\u001b[0m, in \u001b[0;36mCParserWrapper.read\u001b[0;34m(self, nrows)\u001b[0m\n\u001b[1;32m    228\u001b[0m \u001b[38;5;28;01mtry\u001b[39;00m:\n\u001b[1;32m    229\u001b[0m     \u001b[38;5;28;01mif\u001b[39;00m \u001b[38;5;28mself\u001b[39m\u001b[38;5;241m.\u001b[39mlow_memory:\n\u001b[0;32m--> 230\u001b[0m         chunks \u001b[38;5;241m=\u001b[39m \u001b[38;5;28;43mself\u001b[39;49m\u001b[38;5;241;43m.\u001b[39;49m\u001b[43m_reader\u001b[49m\u001b[38;5;241;43m.\u001b[39;49m\u001b[43mread_low_memory\u001b[49m\u001b[43m(\u001b[49m\u001b[43mnrows\u001b[49m\u001b[43m)\u001b[49m\n\u001b[1;32m    231\u001b[0m         \u001b[38;5;66;03m# destructive to chunks\u001b[39;00m\n\u001b[1;32m    232\u001b[0m         data \u001b[38;5;241m=\u001b[39m _concatenate_chunks(chunks)\n",
      "File \u001b[0;32m/opt/homebrew/Caskroom/miniforge/base/envs/dojo-env/lib/python3.9/site-packages/pandas/_libs/parsers.pyx:808\u001b[0m, in \u001b[0;36mpandas._libs.parsers.TextReader.read_low_memory\u001b[0;34m()\u001b[0m\n",
      "File \u001b[0;32m/opt/homebrew/Caskroom/miniforge/base/envs/dojo-env/lib/python3.9/site-packages/pandas/_libs/parsers.pyx:866\u001b[0m, in \u001b[0;36mpandas._libs.parsers.TextReader._read_rows\u001b[0;34m()\u001b[0m\n",
      "File \u001b[0;32m/opt/homebrew/Caskroom/miniforge/base/envs/dojo-env/lib/python3.9/site-packages/pandas/_libs/parsers.pyx:852\u001b[0m, in \u001b[0;36mpandas._libs.parsers.TextReader._tokenize_rows\u001b[0;34m()\u001b[0m\n",
      "File \u001b[0;32m/opt/homebrew/Caskroom/miniforge/base/envs/dojo-env/lib/python3.9/site-packages/pandas/_libs/parsers.pyx:1973\u001b[0m, in \u001b[0;36mpandas._libs.parsers.raise_parser_error\u001b[0;34m()\u001b[0m\n",
      "\u001b[0;31mParserError\u001b[0m: Error tokenizing data. C error: Buffer overflow caught - possible malformed input file.\n"
     ]
    }
   ],
   "source": [
    "data2010 = pd.read_csv('Data/final_tmdb_data_2010.csv.gz')\n",
    "data2011 = pd.read_csv('Data/final_tmdb_data_2011.csv.gz')\n",
    "data2012 = pd.read_csv('Data/final_tmdb_data_2012.csv.gz')\n",
    "data2013 = pd.read_csv('Data/final_tmdb_data_2013.csv.gz')\n",
    "data2014 = pd.read_csv('Data/final_tmdb_data_2014.csv.gz')\n",
    "data2015 = pd.read_csv('Data/final_tmdb_data_2015.csv.gz')\n",
    "data2016 = pd.read_csv('Data/final_tmdb_data_2016.csv.gz')\n",
    "data2017 = pd.read_csv('Data/final_tmdb_data_2017.csv.gz')\n",
    "data2018 = pd.read_csv('Data/final_tmdb_data_2018.csv.gz')\n",
    "data2019 = pd.read_csv('Data/final_tmdb_data_2019.csv.gz')"
   ]
  },
  {
   "cell_type": "code",
   "execution_count": 16,
   "id": "89ad4914",
   "metadata": {},
   "outputs": [
    {
     "ename": "NameError",
     "evalue": "name 'data2011' is not defined",
     "output_type": "error",
     "traceback": [
      "\u001b[0;31m---------------------------------------------------------------------------\u001b[0m",
      "\u001b[0;31mNameError\u001b[0m                                 Traceback (most recent call last)",
      "Cell \u001b[0;32mIn [16], line 1\u001b[0m\n\u001b[0;32m----> 1\u001b[0m df \u001b[38;5;241m=\u001b[39m pd\u001b[38;5;241m.\u001b[39mconcat([ratings, akas, data2010, \u001b[43mdata2011\u001b[49m, data2012, data2013, data2014, data2015, data2016, data2017, data2018, data2019])\n\u001b[1;32m      2\u001b[0m df\u001b[38;5;241m.\u001b[39mhead()\n",
      "\u001b[0;31mNameError\u001b[0m: name 'data2011' is not defined"
     ]
    }
   ],
   "source": [
    "df = pd.concat([ratings, akas, data2010, data2011, data2012, data2013, data2014, data2015, data2016, data2017, data2018, data2019])\n",
    "df.head()"
   ]
  },
  {
   "cell_type": "markdown",
   "id": "44031e79",
   "metadata": {},
   "source": [
    "**Question 1: Does the MPAA rating of a movie (G/PG/PG-13/R) affect how much revenue the movie generates?**\n",
    "\n",
    "Null Hypothesis: There is no difference in movie revenue based on the movie's MPAA rating.\n",
    "\n",
    "Alternative Hypothesis: There is a difference in movie revenue depending on the movies MPAA rating."
   ]
  },
  {
   "cell_type": "code",
   "execution_count": null,
   "id": "f004399b",
   "metadata": {},
   "outputs": [],
   "source": [
    "#Making two dataframe for \"MPAA\" and for \"revenue\"\n",
    "g_df = df.loc[df['']=='',:].copy()\n",
    "pg_df = df.loc[df['']=='',:].copy()\n",
    "pg13_df = df.loc[df['']=='',:].copy()\n",
    "r_df = df.loc[df['']=='',:].copy()\n",
    "#Define our feature of interest\n"
   ]
  },
  {
   "cell_type": "markdown",
   "id": "35604b48",
   "metadata": {},
   "source": [
    "**Size of the two groups.**"
   ]
  },
  {
   "cell_type": "code",
   "execution_count": null,
   "id": "71d17dfc",
   "metadata": {},
   "outputs": [],
   "source": [
    "print(f'{len()}')\n",
    "print(f' {len()}')"
   ]
  },
  {
   "cell_type": "markdown",
   "id": "7644f1ae",
   "metadata": {},
   "source": [
    "**Testing Assumptions**"
   ]
  },
  {
   "cell_type": "code",
   "execution_count": null,
   "id": "8dafc6cb",
   "metadata": {},
   "outputs": [],
   "source": [
    "#Check for outliers in \n",
    "zscores= stats.zscore()\n",
    "outliers = abs(zscores)>3\n",
    "np.sum(outliers)"
   ]
  },
  {
   "cell_type": "markdown",
   "id": "4cd4dfd3",
   "metadata": {},
   "source": [
    "**No outliers in **"
   ]
  },
  {
   "cell_type": "code",
   "execution_count": null,
   "id": "15a5179e",
   "metadata": {},
   "outputs": [],
   "source": [
    "#Check for outliers in \n",
    "zscores= stats.zscore()\n",
    "outliers = abs(zscores)>3\n",
    "np.sum(outliers)"
   ]
  },
  {
   "cell_type": "code",
   "execution_count": null,
   "id": "41f4b81f",
   "metadata": {},
   "outputs": [],
   "source": [
    "#Looping out all the outliers\n",
    "while np.sum(outliers) > 0 and len(outliers)> 0:\n",
    "     = [(np.abs(stats.zscore()) < 3)]\n",
    "    zscores= stats.zscore()\n",
    "    outliers = abs(zscores)>3\n",
    "    np.sum(outliers)"
   ]
  },
  {
   "cell_type": "code",
   "execution_count": null,
   "id": "30347571",
   "metadata": {},
   "outputs": [],
   "source": [
    "#Recheck for outliers in \n",
    "zscores= stats.zscore()\n",
    "outliers = abs(zscores)>3\n",
    "np.sum(outliers)"
   ]
  },
  {
   "cell_type": "markdown",
   "id": "96f3141b",
   "metadata": {},
   "source": [
    "**Normality**"
   ]
  },
  {
   "cell_type": "code",
   "execution_count": null,
   "id": "2c6f9504",
   "metadata": {},
   "outputs": [],
   "source": [
    "#Test the  group for normality\n",
    " = stats.normaltest()\n"
   ]
  },
  {
   "cell_type": "markdown",
   "id": "bb74022b",
   "metadata": {},
   "source": [
    " are not normally distributed. The samples sizes is large enough to not need to be normally distributed."
   ]
  },
  {
   "cell_type": "markdown",
   "id": "9efa531f",
   "metadata": {},
   "source": [
    "**Equal Variance**"
   ]
  },
  {
   "cell_type": "code",
   "execution_count": null,
   "id": "c0c065ff",
   "metadata": {},
   "outputs": [],
   "source": [
    "#Test for equal variance\n",
    "result = stats.levene(, )\n",
    "result"
   ]
  },
  {
   "cell_type": "code",
   "execution_count": null,
   "id": "3a6584b2",
   "metadata": {},
   "outputs": [],
   "source": [
    "Variances is not equal. We'll have to put \"equal_var = False\" when performing our t-test."
   ]
  },
  {
   "cell_type": "code",
   "execution_count": null,
   "id": "0b835e0e",
   "metadata": {},
   "outputs": [],
   "source": [
    "Perform and evaluate the t-test"
   ]
  },
  {
   "cell_type": "code",
   "execution_count": null,
   "id": "0424f979",
   "metadata": {},
   "outputs": [],
   "source": [
    "result = stats.ttest_ind(, , equal_var = False)\n",
    "result"
   ]
  },
  {
   "cell_type": "markdown",
   "id": "6d6d2f1b",
   "metadata": {},
   "source": [
    "Our p-value < alpha (0.05). I reject the null hypothesis and accept that there is a significant difference between smoker and non-smoker insurance charges."
   ]
  },
  {
   "cell_type": "markdown",
   "id": "885e3811",
   "metadata": {},
   "source": [
    "**Supporting Visualization**"
   ]
  },
  {
   "cell_type": "code",
   "execution_count": null,
   "id": "b69bbde7",
   "metadata": {},
   "outputs": [],
   "source": [
    "ax = sns.barplot(x=['',''], y=[.mean(),.meanc()])\n",
    "ax.bar_label(ax.containers[0])\n",
    "plt.title(' Mean vs.  Mean Charges');"
   ]
  },
  {
   "cell_type": "markdown",
   "id": "0bdbad0e",
   "metadata": {},
   "source": [
    "**Question 2: Do movies released in 2011 earn less revenue than movies released in 2019?**\n",
    "\n",
    "Null Hypothesis: There is no difference in movie revenue based on the movies release date. 2011 vs 2019.\n",
    "\n",
    "Alternative Hypothesis: There is a difference in movie revenue depending on the movies release date. 2011 vs 2019."
   ]
  },
  {
   "cell_type": "code",
   "execution_count": null,
   "id": "0ec5ac6f",
   "metadata": {},
   "outputs": [],
   "source": [
    "#Making two dataframe for \"2011\" and for \"2019\"\n",
    "g_df = df.loc[df['']=='',:].copy()\n",
    "pg_df = df.loc[df['']=='',:].copy()\n",
    "pg13_df = df.loc[df['']=='',:].copy()\n",
    "r_df = df.loc[df['']=='',:].copy()\n",
    "#Define our feature of interest"
   ]
  },
  {
   "cell_type": "markdown",
   "id": "8abbb008",
   "metadata": {},
   "source": [
    "**Size of the two groups.**"
   ]
  },
  {
   "cell_type": "code",
   "execution_count": null,
   "id": "7ada0a2d",
   "metadata": {},
   "outputs": [],
   "source": [
    "print(f'{len()}')\n",
    "print(f' {len()}')"
   ]
  },
  {
   "cell_type": "markdown",
   "id": "9197ae92",
   "metadata": {},
   "source": [
    "Testing Assumptions"
   ]
  },
  {
   "cell_type": "code",
   "execution_count": null,
   "id": "1c5f5604",
   "metadata": {},
   "outputs": [],
   "source": [
    "#Check for outliers in \n",
    "zscores= stats.zscore()\n",
    "outliers = abs(zscores)>3\n",
    "np.sum(outliers)"
   ]
  },
  {
   "cell_type": "markdown",
   "id": "1581efa0",
   "metadata": {},
   "source": [
    "**No outliers in **"
   ]
  },
  {
   "cell_type": "code",
   "execution_count": null,
   "id": "f580c27b",
   "metadata": {},
   "outputs": [],
   "source": [
    "#Check for outliers in \n",
    "zscores= stats.zscore()\n",
    "outliers = abs(zscores)>3\n",
    "np.sum(outliers)"
   ]
  },
  {
   "cell_type": "code",
   "execution_count": null,
   "id": "bfbea7ae",
   "metadata": {},
   "outputs": [],
   "source": [
    "#Looping out all the outliers\n",
    "while np.sum(outliers) > 0 and len(outliers)> 0:\n",
    "     = [(np.abs(stats.zscore()) < 3)]\n",
    "    zscores= stats.zscore()\n",
    "    outliers = abs(zscores)>3\n",
    "    np.sum(outliers)"
   ]
  },
  {
   "cell_type": "code",
   "execution_count": null,
   "id": "88a80710",
   "metadata": {},
   "outputs": [],
   "source": [
    "#Recheck for outliers in \n",
    "zscores= stats.zscore()\n",
    "outliers = abs(zscores)>3\n",
    "np.sum(outliers)"
   ]
  },
  {
   "cell_type": "markdown",
   "id": "5e0a6c74",
   "metadata": {},
   "source": [
    "Normality"
   ]
  },
  {
   "cell_type": "code",
   "execution_count": null,
   "id": "9ca5a6d8",
   "metadata": {},
   "outputs": [],
   "source": [
    "#Test the  group for normality\n",
    " = stats.normaltest()\n"
   ]
  },
  {
   "cell_type": "markdown",
   "id": "6e5ae8ca",
   "metadata": {},
   "source": [
    " are not normally distributed. The samples sizes is large enough to not need to be normally distributed."
   ]
  },
  {
   "cell_type": "markdown",
   "id": "4ea3b93f",
   "metadata": {},
   "source": [
    "Equal Variance"
   ]
  },
  {
   "cell_type": "code",
   "execution_count": null,
   "id": "97a55d81",
   "metadata": {},
   "outputs": [],
   "source": [
    "#Test for equal variance\n",
    "result = stats.levene(, )\n",
    "result"
   ]
  },
  {
   "cell_type": "markdown",
   "id": "abb765ab",
   "metadata": {},
   "source": [
    "Variances is not equal. We'll have to put \"equal_var = False\" when performing our t-test."
   ]
  },
  {
   "cell_type": "markdown",
   "id": "6966f351",
   "metadata": {},
   "source": [
    "Perform and evaluate the t-test"
   ]
  },
  {
   "cell_type": "code",
   "execution_count": null,
   "id": "82290ec0",
   "metadata": {},
   "outputs": [],
   "source": [
    "result = stats.ttest_ind(, , equal_var = False)\n",
    "result"
   ]
  },
  {
   "cell_type": "markdown",
   "id": "0dfd3fdf",
   "metadata": {},
   "source": [
    "Supporting Visualization"
   ]
  },
  {
   "cell_type": "code",
   "execution_count": null,
   "id": "cb812ec5",
   "metadata": {},
   "outputs": [],
   "source": [
    "ax = sns.barplot(x=['',''], y=[.mean(),.meanc()])\n",
    "ax.bar_label(ax.containers[0])\n",
    "plt.title(' Mean vs.  Mean Charges');"
   ]
  },
  {
   "cell_type": "code",
   "execution_count": null,
   "id": "b56908f7",
   "metadata": {},
   "outputs": [],
   "source": []
  },
  {
   "cell_type": "markdown",
   "id": "274db79d",
   "metadata": {},
   "source": [
    "**Question 3: Do Do some movie genres earn more revenue than others?**\n",
    "\n",
    "Null Hypothesis: There is no difference in movie revenue based on the movies genre.\n",
    "\n",
    "Alternative Hypothesis: There is a difference in movie revenue depending on the movies genre."
   ]
  },
  {
   "cell_type": "code",
   "execution_count": null,
   "id": "8a429d2b",
   "metadata": {},
   "outputs": [],
   "source": [
    "#Making two dataframe for \"2011\" and for \"2019\"\n",
    "g_df = df.loc[df['']=='',:].copy()\n",
    "pg_df = df.loc[df['']=='',:].copy()\n",
    "pg13_df = df.loc[df['']=='',:].copy()\n",
    "r_df = df.loc[df['']=='',:].copy()\n",
    "#Define our feature of interest"
   ]
  },
  {
   "cell_type": "markdown",
   "id": "d54b17dc",
   "metadata": {},
   "source": [
    "**Size of the two groups.**"
   ]
  },
  {
   "cell_type": "code",
   "execution_count": null,
   "id": "cf507a59",
   "metadata": {},
   "outputs": [],
   "source": [
    "print(f'{len()}')\n",
    "print(f' {len()}')"
   ]
  },
  {
   "cell_type": "markdown",
   "id": "ab4f1788",
   "metadata": {},
   "source": [
    "Testing Assumptions"
   ]
  },
  {
   "cell_type": "code",
   "execution_count": null,
   "id": "064ffc85",
   "metadata": {},
   "outputs": [],
   "source": [
    "#Check for outliers in \n",
    "zscores= stats.zscore()\n",
    "outliers = abs(zscores)>3\n",
    "np.sum(outliers)"
   ]
  },
  {
   "cell_type": "markdown",
   "id": "44d8f91e",
   "metadata": {},
   "source": [
    "**No outliers in **"
   ]
  },
  {
   "cell_type": "code",
   "execution_count": null,
   "id": "562bbe44",
   "metadata": {},
   "outputs": [],
   "source": [
    "#Check for outliers in \n",
    "zscores= stats.zscore()\n",
    "outliers = abs(zscores)>3\n",
    "np.sum(outliers)"
   ]
  },
  {
   "cell_type": "code",
   "execution_count": null,
   "id": "4c738a1c",
   "metadata": {},
   "outputs": [],
   "source": [
    "#Looping out all the outliers\n",
    "while np.sum(outliers) > 0 and len(outliers)> 0:\n",
    "     = [(np.abs(stats.zscore()) < 3)]\n",
    "    zscores= stats.zscore()\n",
    "    outliers = abs(zscores)>3\n",
    "    np.sum(outliers)"
   ]
  },
  {
   "cell_type": "code",
   "execution_count": null,
   "id": "bd724bec",
   "metadata": {},
   "outputs": [],
   "source": [
    "#Recheck for outliers in \n",
    "zscores= stats.zscore()\n",
    "outliers = abs(zscores)>3\n",
    "np.sum(outliers)"
   ]
  },
  {
   "cell_type": "markdown",
   "id": "138a817b",
   "metadata": {},
   "source": [
    "Normality"
   ]
  },
  {
   "cell_type": "code",
   "execution_count": null,
   "id": "bb82c8e9",
   "metadata": {},
   "outputs": [],
   "source": [
    "#Test the  group for normality\n",
    " = stats.normaltest()"
   ]
  },
  {
   "cell_type": "markdown",
   "id": "bb427a7a",
   "metadata": {},
   "source": [
    " are not normally distributed. The samples sizes is large enough to not need to be normally distributed."
   ]
  },
  {
   "cell_type": "markdown",
   "id": "528e2e9c",
   "metadata": {},
   "source": [
    "Equal Variance"
   ]
  },
  {
   "cell_type": "code",
   "execution_count": null,
   "id": "7adee76f",
   "metadata": {},
   "outputs": [],
   "source": [
    "#Test for equal variance\n",
    "result = stats.levene(, )\n",
    "result"
   ]
  },
  {
   "cell_type": "markdown",
   "id": "626eea8a",
   "metadata": {},
   "source": [
    "Variances is not equal. We'll have to put \"equal_var = False\" when performing our t-test."
   ]
  },
  {
   "cell_type": "markdown",
   "id": "2c1b9bd7",
   "metadata": {},
   "source": [
    "Perform and evaluate the t-test"
   ]
  },
  {
   "cell_type": "code",
   "execution_count": null,
   "id": "d53775d3",
   "metadata": {},
   "outputs": [],
   "source": [
    "result = stats.ttest_ind(, , equal_var = False)\n",
    "result"
   ]
  },
  {
   "cell_type": "markdown",
   "id": "e3cbdbe5",
   "metadata": {},
   "source": [
    "Supporting Visualization"
   ]
  },
  {
   "cell_type": "code",
   "execution_count": null,
   "id": "5857476d",
   "metadata": {},
   "outputs": [],
   "source": [
    "ax = sns.barplot(x=['',''], y=[.mean(),.meanc()])\n",
    "ax.bar_label(ax.containers[0])\n",
    "plt.title(' Mean vs.  Mean Charges');"
   ]
  },
  {
   "cell_type": "code",
   "execution_count": null,
   "id": "e9a2d8b2",
   "metadata": {},
   "outputs": [],
   "source": []
  }
 ],
 "metadata": {
  "kernelspec": {
   "display_name": "Python (dojo-env)",
   "language": "python",
   "name": "dojo-env"
  },
  "language_info": {
   "codemirror_mode": {
    "name": "ipython",
    "version": 3
   },
   "file_extension": ".py",
   "mimetype": "text/x-python",
   "name": "python",
   "nbconvert_exporter": "python",
   "pygments_lexer": "ipython3",
   "version": "3.9.15"
  },
  "toc": {
   "base_numbering": 1,
   "nav_menu": {},
   "number_sections": false,
   "sideBar": true,
   "skip_h1_title": false,
   "title_cell": "Table of Contents",
   "title_sidebar": "Contents",
   "toc_cell": false,
   "toc_position": {},
   "toc_section_display": true,
   "toc_window_display": false
  }
 },
 "nbformat": 4,
 "nbformat_minor": 5
}
